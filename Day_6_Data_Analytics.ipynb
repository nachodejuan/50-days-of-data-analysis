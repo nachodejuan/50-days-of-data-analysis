{
  "nbformat": 4,
  "nbformat_minor": 0,
  "metadata": {
    "colab": {
      "provenance": [],
      "authorship_tag": "ABX9TyPHGjpuEuwbHraw6p+ND2Iy",
      "include_colab_link": true
    },
    "kernelspec": {
      "name": "python3",
      "display_name": "Python 3"
    },
    "language_info": {
      "name": "python"
    }
  },
  "cells": [
    {
      "cell_type": "markdown",
      "metadata": {
        "id": "view-in-github",
        "colab_type": "text"
      },
      "source": [
        "<a href=\"https://colab.research.google.com/github/nachodejuan/50-days-of-data-analysis/blob/main/Day_6_Data_Analytics.ipynb\" target=\"_parent\"><img src=\"https://colab.research.google.com/assets/colab-badge.svg\" alt=\"Open In Colab\"/></a>"
      ]
    },
    {
      "cell_type": "markdown",
      "source": [
        "**Array Manipulation and Vector\n",
        "Operations**"
      ],
      "metadata": {
        "id": "n6LUXG92Zxwk"
      }
    },
    {
      "cell_type": "markdown",
      "source": [
        "Given a list:\n",
        "\n",
        "        list_str = [\"23\", \"12\", \"90\", \"28\", \"30\"]"
      ],
      "metadata": {
        "id": "nRCNmwoCaA12"
      }
    },
    {
      "cell_type": "markdown",
      "source": [
        "1. Create a NumPy array with the list above. Calculate the standard deviation of the array."
      ],
      "metadata": {
        "id": "B0tx530GaH5k"
      }
    },
    {
      "cell_type": "code",
      "execution_count": 2,
      "metadata": {
        "colab": {
          "base_uri": "https://localhost:8080/"
        },
        "id": "fv3tmrceZthC",
        "outputId": "a7edd49b-bec5-4b6a-8fa8-4a5695df7eea"
      },
      "outputs": [
        {
          "output_type": "execute_result",
          "data": {
            "text/plain": [
              "27.419700946582186"
            ]
          },
          "metadata": {},
          "execution_count": 2
        }
      ],
      "source": [
        "import numpy as np\n",
        "\n",
        "# Define the list\n",
        "list_str = [\"23\", \"12\", \"90\", \"28\", \"30\"]\n",
        "\n",
        "# Create the array\n",
        "arr1 = np.array(list_str, dtype = int)\n",
        "\n",
        "# Calculate the standard deviation\n",
        "np.std(arr1)"
      ]
    },
    {
      "cell_type": "markdown",
      "source": [
        "2. Write a code to change the data type of the array you created in question one (1) to a floating data type. Save this as a new variable."
      ],
      "metadata": {
        "id": "tw1GOQSMZw0c"
      }
    },
    {
      "cell_type": "code",
      "source": [
        "# Create the float array\n",
        "\n",
        "arr2 = np.array(list_str, dtype = float)\n",
        "arr2"
      ],
      "metadata": {
        "colab": {
          "base_uri": "https://localhost:8080/"
        },
        "id": "6sMGt7LlbCEN",
        "outputId": "4adae302-f96e-4bd8-e9e5-3c9810913970"
      },
      "execution_count": null,
      "outputs": [
        {
          "output_type": "execute_result",
          "data": {
            "text/plain": [
              "array([23., 12., 90., 28., 30.])"
            ]
          },
          "metadata": {},
          "execution_count": 6
        }
      ]
    },
    {
      "cell_type": "markdown",
      "source": [
        "3. Write a code to return the sum of values [90.0, 28.0, 30.0] from the array you just created in question (3)."
      ],
      "metadata": {
        "id": "1Y8HVGypbUOA"
      }
    },
    {
      "cell_type": "code",
      "source": [
        "# Return the indicated slice\n",
        "arr2[2:]"
      ],
      "metadata": {
        "colab": {
          "base_uri": "https://localhost:8080/"
        },
        "id": "hJBDMJaBbXh6",
        "outputId": "57194db4-3712-4d66-a65a-f24d21d81d8f"
      },
      "execution_count": null,
      "outputs": [
        {
          "output_type": "execute_result",
          "data": {
            "text/plain": [
              "array([90., 28., 30.])"
            ]
          },
          "metadata": {},
          "execution_count": 7
        }
      ]
    },
    {
      "cell_type": "markdown",
      "source": [
        "4. Create a 2-dimensional array of random integers from 0 to 100 with the shape (5, 5). Use the array to find the minimum and maximum values, as well as the mean and standard deviation. Ensure that the results are reproducible."
      ],
      "metadata": {
        "id": "-oPLQO4CbqEF"
      }
    },
    {
      "cell_type": "code",
      "source": [
        "# Generate random data\n",
        "rng = np.random.default_rng(seed = 24)\n",
        "\n",
        "arr3 = rng.integers(low=0, high=101, size=(5, 5))\n",
        "arr3"
      ],
      "metadata": {
        "colab": {
          "base_uri": "https://localhost:8080/"
        },
        "id": "dbmySy-obws8",
        "outputId": "6291b073-fb2e-4195-ddb2-e660c00f3953"
      },
      "execution_count": null,
      "outputs": [
        {
          "output_type": "execute_result",
          "data": {
            "text/plain": [
              "array([[38, 33, 75, 40, 79],\n",
              "       [58, 12, 51, 41, 56],\n",
              "       [58, 57, 57, 88, 33],\n",
              "       [ 8, 69, 74, 46, 82],\n",
              "       [28, 71, 66, 41, 79]])"
            ]
          },
          "metadata": {},
          "execution_count": 10
        }
      ]
    },
    {
      "cell_type": "code",
      "source": [
        "# Get the maximum\n",
        "np.max(arr3)"
      ],
      "metadata": {
        "colab": {
          "base_uri": "https://localhost:8080/"
        },
        "id": "21YDvRl_cV9W",
        "outputId": "58b50a1d-6280-4cc2-86d4-ae162b4a03a2"
      },
      "execution_count": null,
      "outputs": [
        {
          "output_type": "execute_result",
          "data": {
            "text/plain": [
              "88"
            ]
          },
          "metadata": {},
          "execution_count": 11
        }
      ]
    },
    {
      "cell_type": "code",
      "source": [
        "# Get the minimum\n",
        "np.min(arr3)"
      ],
      "metadata": {
        "colab": {
          "base_uri": "https://localhost:8080/"
        },
        "id": "CW4cbWtucfqY",
        "outputId": "1ee5723e-92e9-4f5c-f22d-e213ba6ee629"
      },
      "execution_count": null,
      "outputs": [
        {
          "output_type": "execute_result",
          "data": {
            "text/plain": [
              "8"
            ]
          },
          "metadata": {},
          "execution_count": 12
        }
      ]
    },
    {
      "cell_type": "code",
      "source": [
        "# Get the deviation\n",
        "np.std(arr3)"
      ],
      "metadata": {
        "colab": {
          "base_uri": "https://localhost:8080/"
        },
        "id": "H0ozT1v_ckOE",
        "outputId": "fa12b501-fd09-477c-e8c0-114d2d08a377"
      },
      "execution_count": null,
      "outputs": [
        {
          "output_type": "execute_result",
          "data": {
            "text/plain": [
              "21.014280858501916"
            ]
          },
          "metadata": {},
          "execution_count": 14
        }
      ]
    },
    {
      "cell_type": "code",
      "source": [
        "# Get the mean\n",
        "np.mean(arr3)"
      ],
      "metadata": {
        "id": "TNpKf8ukcr_s",
        "outputId": "f90b2480-1361-4edb-afb4-3e5f8b9036b4",
        "colab": {
          "base_uri": "https://localhost:8080/"
        }
      },
      "execution_count": null,
      "outputs": [
        {
          "output_type": "execute_result",
          "data": {
            "text/plain": [
              "53.6"
            ]
          },
          "metadata": {},
          "execution_count": 15
        }
      ]
    },
    {
      "cell_type": "markdown",
      "source": [
        "5. Given two arrays:\n",
        "\n",
        "        first_names = [\"John\", \" Kenny\"]\n",
        "        last_names = [\"Smith\", \" Sakula\"]\n",
        "\n",
        "\n",
        "Using NumPy’s char.join() function, create two arrays by joining the first name with the last name. Your first array should be: array(['John', 'Smith'], dtype='U6'). Your second array should be: array(['Kenny', 'Sakula'], dtype='U6')."
      ],
      "metadata": {
        "id": "PgyKRdUPz2Vr"
      }
    },
    {
      "cell_type": "code",
      "source": [
        "# Define the two arrays\n",
        "first_names = [\"John\", \" Kenny\"]\n",
        "last_names = [\"Smith\", \" Sakula\"]\n",
        "\n",
        "# Using the join function to create an array\n",
        "arr = np.char.join(\"\", [first_names, last_names])\n",
        "\n",
        "arr1 = arr[:,0]\n",
        "arr2 = arr[:,1]\n",
        "\n",
        "arr1, arr2"
      ],
      "metadata": {
        "colab": {
          "base_uri": "https://localhost:8080/"
        },
        "id": "vpnJlpZL1IPz",
        "outputId": "129a4a71-e8dc-4a84-a9e2-50001e48b5dc"
      },
      "execution_count": 10,
      "outputs": [
        {
          "output_type": "execute_result",
          "data": {
            "text/plain": [
              "(array(['John', 'Smith'], dtype='<U7'),\n",
              " array([' Kenny', ' Sakula'], dtype='<U7'))"
            ]
          },
          "metadata": {},
          "execution_count": 10
        }
      ]
    }
  ]
}