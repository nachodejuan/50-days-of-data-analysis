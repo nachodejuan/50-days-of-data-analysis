{
  "nbformat": 4,
  "nbformat_minor": 0,
  "metadata": {
    "colab": {
      "provenance": [],
      "authorship_tag": "ABX9TyOZuFxg9jT4XuaBsZr80alp",
      "include_colab_link": true
    },
    "kernelspec": {
      "name": "python3",
      "display_name": "Python 3"
    },
    "language_info": {
      "name": "python"
    }
  },
  "cells": [
    {
      "cell_type": "markdown",
      "metadata": {
        "id": "view-in-github",
        "colab_type": "text"
      },
      "source": [
        "<a href=\"https://colab.research.google.com/github/nachodejuan/50-days-of-data-analysis/blob/main/Day_9_Data_Analytics.ipynb\" target=\"_parent\"><img src=\"https://colab.research.google.com/assets/colab-badge.svg\" alt=\"Open In Colab\"/></a>"
      ]
    },
    {
      "cell_type": "markdown",
      "source": [
        "**Analyze a One-Dimensional Array**"
      ],
      "metadata": {
        "id": "hVuFm4R01tPU"
      }
    },
    {
      "cell_type": "markdown",
      "source": [
        "1. Create a NumPy one-dimensional array with the list below.\n",
        "\n",
        "          nums = [12, 4, 6, 7, 9, 19, 21, 67, 8]\n"
      ],
      "metadata": {
        "id": "WIPUV5ZB2HOY"
      }
    },
    {
      "cell_type": "code",
      "execution_count": 1,
      "metadata": {
        "colab": {
          "base_uri": "https://localhost:8080/"
        },
        "id": "X_qYUtnT1q_B",
        "outputId": "993ef206-af13-4222-b45c-0985d13cd55f"
      },
      "outputs": [
        {
          "output_type": "execute_result",
          "data": {
            "text/plain": [
              "array([12,  4,  6,  7,  9, 19, 21, 67,  8])"
            ]
          },
          "metadata": {},
          "execution_count": 1
        }
      ],
      "source": [
        "import numpy as np\n",
        "\n",
        "# Define the list\n",
        "nums = [12, 4, 6, 7, 9, 19, 21, 67, 8]\n",
        "\n",
        "arr1 = np.array(nums)\n",
        "\n",
        "arr1"
      ]
    },
    {
      "cell_type": "markdown",
      "source": [
        "2. Using NumPy, write code that returns the minimum\n",
        "number in the array."
      ],
      "metadata": {
        "id": "w9hbikJk3JOJ"
      }
    },
    {
      "cell_type": "code",
      "source": [
        "np.min(arr1, axis=0)"
      ],
      "metadata": {
        "colab": {
          "base_uri": "https://localhost:8080/"
        },
        "id": "3cjmYAXr3Mkn",
        "outputId": "a988c548-5ca6-419e-8165-6792e94e3212"
      },
      "execution_count": 2,
      "outputs": [
        {
          "output_type": "execute_result",
          "data": {
            "text/plain": [
              "4"
            ]
          },
          "metadata": {},
          "execution_count": 2
        }
      ]
    },
    {
      "cell_type": "markdown",
      "source": [
        "3. Write a code that returns the index of the largest number in the array."
      ],
      "metadata": {
        "id": "qGehHTmz3ZT0"
      }
    },
    {
      "cell_type": "code",
      "source": [
        "i, = np.where(arr1 == np.max(arr1, axis=0))\n",
        "i"
      ],
      "metadata": {
        "colab": {
          "base_uri": "https://localhost:8080/"
        },
        "id": "JtmeSvJQ3Yk2",
        "outputId": "f74d478c-9344-4bc5-ccc1-9d976a1fb117"
      },
      "execution_count": 5,
      "outputs": [
        {
          "output_type": "execute_result",
          "data": {
            "text/plain": [
              "array([7])"
            ]
          },
          "metadata": {},
          "execution_count": 5
        }
      ]
    },
    {
      "cell_type": "code",
      "source": [
        "# Useful alternative\n",
        "max_index = np.argmax(arr1)\n",
        "max_index"
      ],
      "metadata": {
        "colab": {
          "base_uri": "https://localhost:8080/"
        },
        "id": "vCk9b0qc62Lz",
        "outputId": "615a4a17-ae78-40c5-fdf5-e9bbcdf71456"
      },
      "execution_count": 10,
      "outputs": [
        {
          "output_type": "execute_result",
          "data": {
            "text/plain": [
              "7"
            ]
          },
          "metadata": {},
          "execution_count": 10
        }
      ]
    },
    {
      "cell_type": "markdown",
      "source": [
        "4. Using NumPy, calculate the average of the biggest and smallest numbers in the array."
      ],
      "metadata": {
        "id": "V7YBiDoE4ss9"
      }
    },
    {
      "cell_type": "code",
      "source": [
        "# ptp returns the range of an array\n",
        "\n",
        "rng = np.ptp(arr1, axis=0)\n",
        "rng"
      ],
      "metadata": {
        "colab": {
          "base_uri": "https://localhost:8080/"
        },
        "id": "Ks-hrCUU4uoy",
        "outputId": "7d750543-44f3-43e4-a84a-0ea9d6b06cd2"
      },
      "execution_count": 6,
      "outputs": [
        {
          "output_type": "execute_result",
          "data": {
            "text/plain": [
              "63"
            ]
          },
          "metadata": {},
          "execution_count": 6
        }
      ]
    },
    {
      "cell_type": "code",
      "source": [
        "# Returns the range divided by two\n",
        "\n",
        "rng/2"
      ],
      "metadata": {
        "colab": {
          "base_uri": "https://localhost:8080/"
        },
        "id": "dtYoNthu5OIn",
        "outputId": "4c1d6683-e110-47ba-ce78-1f5cc5bf1e7f"
      },
      "execution_count": 7,
      "outputs": [
        {
          "output_type": "execute_result",
          "data": {
            "text/plain": [
              "31.5"
            ]
          },
          "metadata": {},
          "execution_count": 7
        }
      ]
    },
    {
      "cell_type": "markdown",
      "source": [
        "5. Write a code to find the mean, median, and standard\n",
        "deviation of the array."
      ],
      "metadata": {
        "id": "NxHyGyeF3LyP"
      }
    },
    {
      "cell_type": "code",
      "source": [
        "np.mean(arr1, axis=0), np.median(arr1, axis=0), np.std(arr1, axis=0)"
      ],
      "metadata": {
        "colab": {
          "base_uri": "https://localhost:8080/"
        },
        "id": "4LCp2ENq5b0v",
        "outputId": "cc08eee9-ac1d-4750-f936-ecae77c2eb77"
      },
      "execution_count": 8,
      "outputs": [
        {
          "output_type": "execute_result",
          "data": {
            "text/plain": [
              "(17.0, 9.0, 18.499249234015476)"
            ]
          },
          "metadata": {},
          "execution_count": 8
        }
      ]
    },
    {
      "cell_type": "markdown",
      "source": [
        "6. Write code to find the outlier in the array above."
      ],
      "metadata": {
        "id": "1YjGb5Q45nPf"
      }
    },
    {
      "cell_type": "markdown",
      "source": [
        "To find the outlier of the array using NumPy, you can\n",
        "calculate the lower and upper bounds of the data using the Interquartile Range (IQR) method.\n",
        "\n",
        "Outliers are defined as any values that are more than 1.5 times the IQR outside of the lower or upper quartile.\n",
        "\n",
        "We can use the **np.percentile()** function to find the lower and upper quartiles, and then use these values to calculate the IQR, and subsequently the lower and upper bounds."
      ],
      "metadata": {
        "id": "eohJ0KrV7Kmd"
      }
    },
    {
      "cell_type": "code",
      "source": [
        "# Sort the array\n",
        "sorted_array = np.sort(arr1)\n",
        "sorted_array"
      ],
      "metadata": {
        "colab": {
          "base_uri": "https://localhost:8080/"
        },
        "id": "VN-euRe08YQH",
        "outputId": "b636327c-1a71-4955-b7ab-2560cfa4fdba"
      },
      "execution_count": 13,
      "outputs": [
        {
          "output_type": "execute_result",
          "data": {
            "text/plain": [
              "array([ 4,  6,  7,  8,  9, 12, 19, 21, 67])"
            ]
          },
          "metadata": {},
          "execution_count": 13
        }
      ]
    },
    {
      "cell_type": "code",
      "source": [
        "# Calculate the outlier\n",
        "\n",
        "def calculate_outlier(array):\n",
        "  q1 = np.percentile(sorted_array, 25)\n",
        "  q3 = np.percentile(sorted_array, 75)\n",
        "\n",
        "  iqr = q3 - q1\n",
        "\n",
        "  lower_bound = q1 - 1.5 * iqr\n",
        "  upper_bound = q3 + 1.5 * iqr\n",
        "\n",
        "  outliers = [x for x in sorted_array if x < lower_bound or x > upper_bound]\n",
        "\n",
        "  return outliers\n",
        "\n",
        "calculate_outlier(sorted_array)\n"
      ],
      "metadata": {
        "colab": {
          "base_uri": "https://localhost:8080/"
        },
        "id": "91qQ9zbP8aTp",
        "outputId": "542d6a70-660f-42a9-9561-82c838c44d1e"
      },
      "execution_count": 14,
      "outputs": [
        {
          "output_type": "execute_result",
          "data": {
            "text/plain": [
              "[67]"
            ]
          },
          "metadata": {},
          "execution_count": 14
        }
      ]
    }
  ]
}