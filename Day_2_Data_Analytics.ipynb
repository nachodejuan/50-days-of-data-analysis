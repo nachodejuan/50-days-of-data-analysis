{
  "nbformat": 4,
  "nbformat_minor": 0,
  "metadata": {
    "colab": {
      "provenance": [],
      "authorship_tag": "ABX9TyOJ25ldfyp512w0FRINeMTI",
      "include_colab_link": true
    },
    "kernelspec": {
      "name": "python3",
      "display_name": "Python 3"
    },
    "language_info": {
      "name": "python"
    }
  },
  "cells": [
    {
      "cell_type": "markdown",
      "metadata": {
        "id": "view-in-github",
        "colab_type": "text"
      },
      "source": [
        "<a href=\"https://colab.research.google.com/github/nachodejuan/50-days-of-data-analysis/blob/main/Day_2_Data_Analytics.ipynb\" target=\"_parent\"><img src=\"https://colab.research.google.com/assets/colab-badge.svg\" alt=\"Open In Colab\"/></a>"
      ]
    },
    {
      "cell_type": "markdown",
      "source": [
        "**Creating and Manipulating Arrays**"
      ],
      "metadata": {
        "id": "OuA7-HkGviC_"
      }
    },
    {
      "cell_type": "markdown",
      "source": [
        "1. Write code to import NumPy into your script. Check the version of NumPy installed."
      ],
      "metadata": {
        "id": "AHb-n_Vovp32"
      }
    },
    {
      "cell_type": "code",
      "execution_count": 3,
      "metadata": {
        "colab": {
          "base_uri": "https://localhost:8080/"
        },
        "id": "LocsXKSuu7Wy",
        "outputId": "6762c5db-2473-49d0-ecf2-9ec03b6f57d8"
      },
      "outputs": [
        {
          "output_type": "stream",
          "name": "stdout",
          "text": [
            "The version of NumPy installed is 1.23.5\n"
          ]
        }
      ],
      "source": [
        "import numpy as np\n",
        "\n",
        "print(f\"The version of NumPy installed is {np.__version__}\")"
      ]
    },
    {
      "cell_type": "markdown",
      "source": [
        "2. Here is a list below:\n",
        "\n",
        "       list1 = [2, 3, 4, 6]\n",
        "\n",
        "  a) Create a one-dimensional array from the list above. Write another line of code to check the shape and size of your array.\n",
        "\n",
        "  b) Write a function that takes this array and returns a new array with all the values in the original array reversed."
      ],
      "metadata": {
        "id": "5-NAip4kwJ0P"
      }
    },
    {
      "cell_type": "code",
      "source": [
        "# Define the list\n",
        "list1 = [2, 3, 4, 6]\n",
        "\n",
        "# Create an array from the list above\n",
        "array1 = np.array(list1)\n",
        "\n",
        "print(f\"The size of the array is: {array1.size}\")\n",
        "print(f\"The shape of the array is: {array1.shape}\")"
      ],
      "metadata": {
        "colab": {
          "base_uri": "https://localhost:8080/"
        },
        "id": "ZnTPr-pSwdX_",
        "outputId": "38d21234-a6f7-470f-fbb9-9bfe6de06763"
      },
      "execution_count": 9,
      "outputs": [
        {
          "output_type": "stream",
          "name": "stdout",
          "text": [
            "The size of the array is: 4\n",
            "The shape of the array is: (4,)\n"
          ]
        }
      ]
    },
    {
      "cell_type": "code",
      "source": [
        "# Define a function to flip the array\n",
        "def flip_array(array):\n",
        "  return np.flip(array, axis = None)\n",
        "\n",
        "flip_array(array1)"
      ],
      "metadata": {
        "colab": {
          "base_uri": "https://localhost:8080/"
        },
        "id": "gMyqn8vayAUS",
        "outputId": "19ee7615-efc0-434d-9689-14d527c3f63f"
      },
      "execution_count": 11,
      "outputs": [
        {
          "output_type": "execute_result",
          "data": {
            "text/plain": [
              "array([6, 4, 3, 2])"
            ]
          },
          "metadata": {},
          "execution_count": 11
        }
      ]
    },
    {
      "cell_type": "markdown",
      "source": [
        "\n",
        "3. Given the following lists\n",
        "  \n",
        "\n",
        "       list1 = [2, 3, 4, 6]\n",
        "       list2 = [8, 10, 12, 14]\n",
        "  \n",
        "  Create an array from the two lists above. Then write code to check the shape, dimensions, and data type of the array."
      ],
      "metadata": {
        "id": "jyuso2xhymmz"
      }
    },
    {
      "cell_type": "code",
      "source": [
        "# Define the lists\n",
        "list1 = [2, 3, 4, 6]\n",
        "list2 = [8, 10, 12, 14]\n",
        "\n",
        "def create_array(list_1, list_2):\n",
        "  array1 = np.array([list_1, list_2])\n",
        "  print(f\"The size of the array is: {array1.size}\")\n",
        "  print(f\"The shape of the array is: {array1.shape}\")\n",
        "  print(f\"The data type of the array is: {array1.dtype}\")\n",
        "\n",
        "create_array(list1, list2)"
      ],
      "metadata": {
        "colab": {
          "base_uri": "https://localhost:8080/"
        },
        "id": "-1_XAQhFymKf",
        "outputId": "3d260254-489f-428b-c482-8c7a90639795"
      },
      "execution_count": 18,
      "outputs": [
        {
          "output_type": "stream",
          "name": "stdout",
          "text": [
            "The size of the array is: 8\n",
            "The shape of the array is: (2, 4)\n",
            "The data type of the array is: int64\n"
          ]
        }
      ]
    },
    {
      "cell_type": "markdown",
      "source": [
        "4. Given the lists\n",
        "  \n",
        "\n",
        "       list1 = [2, 3, 4, 6]\n",
        "       list2 = [8, 10.1, 12, 14]\n",
        "       list3 = [16, 18, 20, 22.1]\n",
        "\n",
        "Create an array from the three (3) lists above. Take note that some of the lists contain floats. Create an array that will have an int64 data type."
      ],
      "metadata": {
        "id": "k62bZPrN0gqV"
      }
    },
    {
      "cell_type": "code",
      "source": [
        "# Define the lists\n",
        "\n",
        "list1 = [2, 3, 4, 6]\n",
        "list2 = [8, 10.1, 12, 14]\n",
        "list3 = [16, 18, 20, 22.1]\n",
        "\n",
        "# Create an array from the three lists with data type int64\n",
        "array1 = np.array([list1, list2, list3], dtype = 'int64')\n",
        "array1"
      ],
      "metadata": {
        "colab": {
          "base_uri": "https://localhost:8080/"
        },
        "id": "XL3YwO7f0ryt",
        "outputId": "348ef72c-aa8c-4a94-fc0f-160b21c35737"
      },
      "execution_count": 17,
      "outputs": [
        {
          "output_type": "execute_result",
          "data": {
            "text/plain": [
              "array([[ 2,  3,  4,  6],\n",
              "       [ 8, 10, 12, 14],\n",
              "       [16, 18, 20, 22]])"
            ]
          },
          "metadata": {},
          "execution_count": 17
        }
      ]
    },
    {
      "cell_type": "markdown",
      "source": [
        "5. Is it possible to create an array of both floats and integers?\n",
        "\n",
        "In NumPy, an array is a homogeneous data structure,\n",
        "which means that it can only hold values of a single datatype. Like we have seen above, if you have a list of floats and integers and you want to convert it to an array, by default it will be converted to the float data type"
      ],
      "metadata": {
        "id": "qsOqgf_J15hv"
      }
    },
    {
      "cell_type": "code",
      "source": [
        "array2 = np.array(list1+list2+list3)\n",
        "array2"
      ],
      "metadata": {
        "colab": {
          "base_uri": "https://localhost:8080/"
        },
        "id": "CBXxHSUC1-AU",
        "outputId": "ee3043c8-0f99-4a55-c039-5690f8bf6796"
      },
      "execution_count": 16,
      "outputs": [
        {
          "output_type": "execute_result",
          "data": {
            "text/plain": [
              "array([ 2. ,  3. ,  4. ,  6. ,  8. , 10.1, 12. , 14. , 16. , 18. , 20. ,\n",
              "       22.1])"
            ]
          },
          "metadata": {},
          "execution_count": 16
        }
      ]
    }
  ]
}