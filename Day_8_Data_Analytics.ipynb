{
  "nbformat": 4,
  "nbformat_minor": 0,
  "metadata": {
    "colab": {
      "provenance": [],
      "authorship_tag": "ABX9TyOmZb21wEUUeYXVM61TLCQ+",
      "include_colab_link": true
    },
    "kernelspec": {
      "name": "python3",
      "display_name": "Python 3"
    },
    "language_info": {
      "name": "python"
    }
  },
  "cells": [
    {
      "cell_type": "markdown",
      "metadata": {
        "id": "view-in-github",
        "colab_type": "text"
      },
      "source": [
        "<a href=\"https://colab.research.google.com/github/nachodejuan/50-days-of-data-analysis/blob/main/Day_8_Data_Analytics.ipynb\" target=\"_parent\"><img src=\"https://colab.research.google.com/assets/colab-badge.svg\" alt=\"Open In Colab\"/></a>"
      ]
    },
    {
      "cell_type": "markdown",
      "source": [
        "**Slicing Numpy Arrays**"
      ],
      "metadata": {
        "id": "85h7fgJwzVKw"
      }
    },
    {
      "cell_type": "markdown",
      "source": [
        "1. Create a one-dimensional array with random integers\n",
        "between 0 and 20. The size of the array is 10. Ensure that the results are reproducible."
      ],
      "metadata": {
        "id": "ZJBSxiUY0XrV"
      }
    },
    {
      "cell_type": "code",
      "execution_count": 9,
      "metadata": {
        "colab": {
          "base_uri": "https://localhost:8080/"
        },
        "id": "QBEPj4eIzTvn",
        "outputId": "0ef4a7f6-d363-457a-8882-1be54ca1fe6c"
      },
      "outputs": [
        {
          "output_type": "execute_result",
          "data": {
            "text/plain": [
              "array([ 8,  6, 15,  8, 16, 12,  2, 10,  8, 11])"
            ]
          },
          "metadata": {},
          "execution_count": 9
        }
      ],
      "source": [
        "import numpy as np\n",
        "\n",
        "# Create a random number generator\n",
        "rng = np.random.default_rng(seed=24)\n",
        "\n",
        "# Generate random integers from 0 to 20\n",
        "arr1 = rng.integers(low=0, high=21, size=(10))\n",
        "arr1"
      ]
    },
    {
      "cell_type": "markdown",
      "source": [
        "2. Using slicing, create a subset array of 3 integers from the array you created in question 1. The first integer is at index 2, the second integer is at index 4, and the third index is at index 7."
      ],
      "metadata": {
        "id": "zc9Pq1uD1iMx"
      }
    },
    {
      "cell_type": "code",
      "source": [
        "arr2 = np.array([arr1[2], arr1[4], arr1[7]])\n",
        "arr2"
      ],
      "metadata": {
        "colab": {
          "base_uri": "https://localhost:8080/"
        },
        "id": "goxT2R2z1H2e",
        "outputId": "86a55cc7-d72a-4fac-c986-a6d3a5ed548e"
      },
      "execution_count": 6,
      "outputs": [
        {
          "output_type": "execute_result",
          "data": {
            "text/plain": [
              "array([15, 16, 10])"
            ]
          },
          "metadata": {},
          "execution_count": 6
        }
      ]
    },
    {
      "cell_type": "markdown",
      "source": [
        "3. Create a two-dimensional array from the list below. Check the dimensions and shape of your array.\n",
        "\n",
        "        My_list = [[1, 2, 3, 4, 5], [6, 7, 8, 9, 10],\n",
        "        [11, 12, 13, 14, 15]]\n",
        "\n",
        "Using slicing, write a code to access the numbers 3, 8, and 13. Your code should return [3, 8, 13]."
      ],
      "metadata": {
        "id": "xko7FxYPzUaN"
      }
    },
    {
      "cell_type": "code",
      "source": [
        "# Define the list\n",
        "My_list = [[1, 2, 3, 4, 5], [6, 7, 8, 9, 10],\n",
        "[11, 12, 13, 14, 15]]\n",
        "\n",
        "# Create the array\n",
        "arr3 = np.array(My_list)\n",
        "arr3"
      ],
      "metadata": {
        "colab": {
          "base_uri": "https://localhost:8080/"
        },
        "id": "QYEzljoT3JIL",
        "outputId": "07a3ca16-411a-48d1-a2c4-b27cc1c0a353"
      },
      "execution_count": 10,
      "outputs": [
        {
          "output_type": "execute_result",
          "data": {
            "text/plain": [
              "array([[ 1,  2,  3,  4,  5],\n",
              "       [ 6,  7,  8,  9, 10],\n",
              "       [11, 12, 13, 14, 15]])"
            ]
          },
          "metadata": {},
          "execution_count": 10
        }
      ]
    },
    {
      "cell_type": "code",
      "source": [
        "arr4 = np.array([arr3[0,2], arr3[1,2], arr3[2,2]])\n",
        "arr4"
      ],
      "metadata": {
        "colab": {
          "base_uri": "https://localhost:8080/"
        },
        "id": "FpBFmtVF4JLH",
        "outputId": "b250d96d-2e5b-453d-9666-66371960e5d1"
      },
      "execution_count": 12,
      "outputs": [
        {
          "output_type": "execute_result",
          "data": {
            "text/plain": [
              "array([ 3,  8, 13])"
            ]
          },
          "metadata": {},
          "execution_count": 12
        }
      ]
    },
    {
      "cell_type": "markdown",
      "source": [
        "4. Create a three-dimensional array from the nested list below:\n",
        "\n",
        "        list1 = [[[1, 2, 3, 4, 5], [6, 7, 8, 9, 10],\n",
        "                [11, 12, 13, 14, 15]]]\n",
        "\n",
        "Using slicing, write code that creates a sublist from the array you created. Your code should return an array of numbers (4, 8, and 15)."
      ],
      "metadata": {
        "id": "ZaU-s9sv4d0_"
      }
    },
    {
      "cell_type": "code",
      "source": [
        "# Define the list\n",
        "list1 = [[[1, 2, 3, 4, 5], [6, 7, 8, 9, 10],\n",
        "          [11, 12, 13, 14, 15]]]\n",
        "\n",
        "# Create the new array\n",
        "arr5 = np.array(list1)\n",
        "arr5"
      ],
      "metadata": {
        "colab": {
          "base_uri": "https://localhost:8080/"
        },
        "id": "lZsV8oXp5KQz",
        "outputId": "3b746cbf-cbd9-4b89-8ee0-6769ebc46a55"
      },
      "execution_count": 13,
      "outputs": [
        {
          "output_type": "execute_result",
          "data": {
            "text/plain": [
              "array([[[ 1,  2,  3,  4,  5],\n",
              "        [ 6,  7,  8,  9, 10],\n",
              "        [11, 12, 13, 14, 15]]])"
            ]
          },
          "metadata": {},
          "execution_count": 13
        }
      ]
    },
    {
      "cell_type": "code",
      "source": [
        "arr6 = np.array([arr5[0,0,3], arr5[0,1,2], arr5[0,2,4]])\n",
        "arr6"
      ],
      "metadata": {
        "colab": {
          "base_uri": "https://localhost:8080/"
        },
        "id": "PwIW_GsR6FPX",
        "outputId": "45a6f7ee-9b5e-43b6-9731-7d79786d45bd"
      },
      "execution_count": 15,
      "outputs": [
        {
          "output_type": "execute_result",
          "data": {
            "text/plain": [
              "array([ 4,  8, 15])"
            ]
          },
          "metadata": {},
          "execution_count": 15
        }
      ]
    }
  ]
}