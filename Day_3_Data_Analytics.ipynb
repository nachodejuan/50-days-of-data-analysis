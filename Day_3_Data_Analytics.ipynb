{
  "nbformat": 4,
  "nbformat_minor": 0,
  "metadata": {
    "colab": {
      "provenance": [],
      "authorship_tag": "ABX9TyM1IWvwSL4ceI2XwjWNcoCJ",
      "include_colab_link": true
    },
    "kernelspec": {
      "name": "python3",
      "display_name": "Python 3"
    },
    "language_info": {
      "name": "python"
    }
  },
  "cells": [
    {
      "cell_type": "markdown",
      "metadata": {
        "id": "view-in-github",
        "colab_type": "text"
      },
      "source": [
        "<a href=\"https://colab.research.google.com/github/nachodejuan/50-days-of-data-analysis/blob/main/Day_3_Data_Analytics.ipynb\" target=\"_parent\"><img src=\"https://colab.research.google.com/assets/colab-badge.svg\" alt=\"Open In Colab\"/></a>"
      ]
    },
    {
      "cell_type": "markdown",
      "source": [
        "**Generating Random Arrays**"
      ],
      "metadata": {
        "id": "SSlfghaotDlv"
      }
    },
    {
      "cell_type": "markdown",
      "source": [
        "1. Using NumPy create an array of random numbers\n",
        "between 0 and 1. The shape of the array must be (3, 4). Use seed to ensure that the results are reproducible."
      ],
      "metadata": {
        "id": "mvrj9mhttImM"
      }
    },
    {
      "cell_type": "code",
      "execution_count": 2,
      "metadata": {
        "colab": {
          "base_uri": "https://localhost:8080/"
        },
        "id": "Yp7A7XlDs6m7",
        "outputId": "3eaee7d6-6427-4ad9-8c00-812d23d23aef"
      },
      "outputs": [
        {
          "output_type": "execute_result",
          "data": {
            "text/plain": [
              "array([[0.33026884, 0.40517732, 0.57473782, 0.50639977],\n",
              "       [0.56421251, 0.56968731, 0.87411653, 0.08643046],\n",
              "       [0.74247527, 0.82036726, 0.71216007, 0.40992561]])"
            ]
          },
          "metadata": {},
          "execution_count": 2
        }
      ],
      "source": [
        "import numpy as np\n",
        "\n",
        "# Create a random number generator between 0 and 1 (default)\n",
        "rng = np.random.default_rng(seed = 24)\n",
        "\n",
        "# Generate random floats between 0 and 1\n",
        "rng.random((3, 4))"
      ]
    },
    {
      "cell_type": "markdown",
      "source": [
        "2. Create an array of random integers between 0 and 10. The shape of the array must be (3, 4)."
      ],
      "metadata": {
        "id": "aQ043VGUtt6l"
      }
    },
    {
      "cell_type": "code",
      "source": [
        "# Create a random number generator between 0 and 1 (default)\n",
        "rng = np.random.default_rng(seed = 24)\n",
        "\n",
        "# Generate random integers from 0 to 10\n",
        "rng.integers(low=0, high=11, size=(3, 4))"
      ],
      "metadata": {
        "colab": {
          "base_uri": "https://localhost:8080/"
        },
        "id": "RctDtNTZuZoq",
        "outputId": "e97f0637-b656-4770-89e2-7f57daf8d9ab"
      },
      "execution_count": 5,
      "outputs": [
        {
          "output_type": "execute_result",
          "data": {
            "text/plain": [
              "array([[4, 3, 8, 4],\n",
              "       [8, 6, 1, 5],\n",
              "       [4, 6, 6, 6]])"
            ]
          },
          "metadata": {},
          "execution_count": 5
        }
      ]
    },
    {
      "cell_type": "markdown",
      "source": [
        "3. Using NumPy, generate an array of 1000 random numbers from a standard normal distribution with a mean of 0 and a variance of 1. Create a histogram with this array. Use the seed parameter to ensure the results are reproducible."
      ],
      "metadata": {
        "id": "LmEJjIYlvHv8"
      }
    },
    {
      "cell_type": "code",
      "source": [
        "import matplotlib.pyplot as plt\n",
        "\n",
        "data_arr = 1.0*np.random.randn(1000000) + 0.0\n",
        "\n",
        "plt.hist(data_arr, bins = 150)\n",
        "plt.title(\"Random Numbers\")\n",
        "plt.show()"
      ],
      "metadata": {
        "colab": {
          "base_uri": "https://localhost:8080/",
          "height": 452
        },
        "id": "pynvYZzkvMPS",
        "outputId": "001e395c-a8ff-4df2-bfd2-6a049baf6370"
      },
      "execution_count": 19,
      "outputs": [
        {
          "output_type": "display_data",
          "data": {
            "text/plain": [
              "<Figure size 640x480 with 1 Axes>"
            ],
            "image/png": "[encoded data removed]"
          },
          "metadata": {}
        }
      ]
    },
    {
      "cell_type": "markdown",
      "source": [
        "4. Given an array:\n",
        "\n",
        "        arr = [ \"Orange\", \"Apple\", \"Pear\"]\n",
        "\n",
        "Using random.choice() from NumPy, generate an array\n",
        "from the list above. The shape of the array must be (3, 4)."
      ],
      "metadata": {
        "id": "eHn1KugrxpgO"
      }
    },
    {
      "cell_type": "code",
      "source": [
        "arr = [ \"Orange\", \"Apple\", \"Pear\"]\n",
        "np.random.choice(arr, size=(3, 4))\n"
      ],
      "metadata": {
        "colab": {
          "base_uri": "https://localhost:8080/"
        },
        "id": "_YUhSz8kyfcN",
        "outputId": "d6c92e65-a30a-4af4-982b-16772e8a987a"
      },
      "execution_count": 26,
      "outputs": [
        {
          "output_type": "execute_result",
          "data": {
            "text/plain": [
              "array([['Orange', 'Pear', 'Pear', 'Pear'],\n",
              "       ['Apple', 'Pear', 'Orange', 'Pear'],\n",
              "       ['Pear', 'Pear', 'Apple', 'Apple']], dtype='<U6')"
            ]
          },
          "metadata": {},
          "execution_count": 26
        }
      ]
    }
  ]
}