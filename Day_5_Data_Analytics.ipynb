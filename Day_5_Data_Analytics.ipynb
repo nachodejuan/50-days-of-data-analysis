{
  "nbformat": 4,
  "nbformat_minor": 0,
  "metadata": {
    "colab": {
      "provenance": [],
      "authorship_tag": "ABX9TyN0b/LBdsxCR8ZDyTdEGfRW",
      "include_colab_link": true
    },
    "kernelspec": {
      "name": "python3",
      "display_name": "Python 3"
    },
    "language_info": {
      "name": "python"
    }
  },
  "cells": [
    {
      "cell_type": "markdown",
      "metadata": {
        "id": "view-in-github",
        "colab_type": "text"
      },
      "source": [
        "<a href=\"https://colab.research.google.com/github/nachodejuan/50-days-of-data-analysis/blob/main/Day_5_Data_Analytics.ipynb\" target=\"_parent\"><img src=\"https://colab.research.google.com/assets/colab-badge.svg\" alt=\"Open In Colab\"/></a>"
      ]
    },
    {
      "cell_type": "markdown",
      "source": [
        "**Array Creation an Vector Operations**"
      ],
      "metadata": {
        "id": "sbHMOqBRkeFH"
      }
    },
    {
      "cell_type": "markdown",
      "source": [
        "      list_numbers = [[12, 23, -45], [18, -77, -44]]"
      ],
      "metadata": {
        "id": "wrsJHL2okm0t"
      }
    },
    {
      "cell_type": "markdown",
      "source": [
        "1. Using NumPy, create an array from the list. Write a code to return all the negative numbers in the list."
      ],
      "metadata": {
        "id": "EprOXL-Ukp_4"
      }
    },
    {
      "cell_type": "code",
      "execution_count": 6,
      "metadata": {
        "colab": {
          "base_uri": "https://localhost:8080/"
        },
        "id": "qBqhHeXdkZsh",
        "outputId": "d559ad87-ec97-4cf7-c885-397f5f297008"
      },
      "outputs": [
        {
          "output_type": "execute_result",
          "data": {
            "text/plain": [
              "array([-45, -77, -44])"
            ]
          },
          "metadata": {},
          "execution_count": 6
        }
      ],
      "source": [
        "import numpy as np\n",
        "\n",
        "# Define the numbers\n",
        "list_numbers = [[12, 23, -45], [18, -77, -44]]\n",
        "\n",
        "# Create the array\n",
        "arr1 = np.array(list_numbers)\n",
        "\n",
        "# Return the negative numbers of the list\n",
        "arr1[arr1<0]"
      ]
    },
    {
      "cell_type": "markdown",
      "source": [
        "2. Using NumPy, write code to multiply each element in the array you created in question 1 by 2. Create a new variable for this array."
      ],
      "metadata": {
        "id": "3Ykw_zr3lgWb"
      }
    },
    {
      "cell_type": "code",
      "source": [
        "arr2 = 2*arr1\n",
        "arr2"
      ],
      "metadata": {
        "colab": {
          "base_uri": "https://localhost:8080/"
        },
        "id": "GUdsnKuUlmm7",
        "outputId": "59f245f7-9366-4597-abac-551397e1d7b1"
      },
      "execution_count": 7,
      "outputs": [
        {
          "output_type": "execute_result",
          "data": {
            "text/plain": [
              "array([[  24,   46,  -90],\n",
              "       [  36, -154,  -88]])"
            ]
          },
          "metadata": {},
          "execution_count": 7
        }
      ]
    },
    {
      "cell_type": "markdown",
      "source": [
        "3. Write code to calculate the sum of the numbers on axis-1 of the array you created in question 2."
      ],
      "metadata": {
        "id": "EoX94drkkcuO"
      }
    },
    {
      "cell_type": "code",
      "source": [
        "np.sum(arr2, axis = 1)"
      ],
      "metadata": {
        "colab": {
          "base_uri": "https://localhost:8080/"
        },
        "id": "QfXddSBPlwnZ",
        "outputId": "f889c11a-8da7-4235-e0ac-2874fde9ad85"
      },
      "execution_count": 8,
      "outputs": [
        {
          "output_type": "execute_result",
          "data": {
            "text/plain": [
              "array([ -20, -206])"
            ]
          },
          "metadata": {},
          "execution_count": 8
        }
      ]
    },
    {
      "cell_type": "markdown",
      "source": [
        "4. Write code to calculate the sum of numbers on axis-0 of the array you created in question 2."
      ],
      "metadata": {
        "id": "g1vRLqhmmQbp"
      }
    },
    {
      "cell_type": "code",
      "source": [
        "np.sum(arr2, axis = 0)"
      ],
      "metadata": {
        "colab": {
          "base_uri": "https://localhost:8080/"
        },
        "id": "4PiFwnEDmTWy",
        "outputId": "23b4df01-945b-4a34-9bfe-b0a0ee2d911d"
      },
      "execution_count": 9,
      "outputs": [
        {
          "output_type": "execute_result",
          "data": {
            "text/plain": [
              "array([  60, -108, -178])"
            ]
          },
          "metadata": {},
          "execution_count": 9
        }
      ]
    },
    {
      "cell_type": "markdown",
      "source": [
        "5. Using the NumPy **arange()** function, create a NumPy array of numbers from 0 to 99. The shape of the array must be (2, 5, 10)."
      ],
      "metadata": {
        "id": "FuOkxk_NmZvm"
      }
    },
    {
      "cell_type": "code",
      "source": [
        "# Create the indicated array\n",
        "arr3 = np.arange(101)\n",
        "\n",
        "arr3.resize(2,5,10)\n",
        "arr3"
      ],
      "metadata": {
        "colab": {
          "base_uri": "https://localhost:8080/"
        },
        "id": "lxH4mvV2md1I",
        "outputId": "f6f101b8-5ad7-4df1-f966-a61614815a52"
      },
      "execution_count": 21,
      "outputs": [
        {
          "output_type": "execute_result",
          "data": {
            "text/plain": [
              "array([[[ 0,  1,  2,  3,  4,  5,  6,  7,  8,  9],\n",
              "        [10, 11, 12, 13, 14, 15, 16, 17, 18, 19],\n",
              "        [20, 21, 22, 23, 24, 25, 26, 27, 28, 29],\n",
              "        [30, 31, 32, 33, 34, 35, 36, 37, 38, 39],\n",
              "        [40, 41, 42, 43, 44, 45, 46, 47, 48, 49]],\n",
              "\n",
              "       [[50, 51, 52, 53, 54, 55, 56, 57, 58, 59],\n",
              "        [60, 61, 62, 63, 64, 65, 66, 67, 68, 69],\n",
              "        [70, 71, 72, 73, 74, 75, 76, 77, 78, 79],\n",
              "        [80, 81, 82, 83, 84, 85, 86, 87, 88, 89],\n",
              "        [90, 91, 92, 93, 94, 95, 96, 97, 98, 99]]])"
            ]
          },
          "metadata": {},
          "execution_count": 21
        }
      ]
    },
    {
      "cell_type": "markdown",
      "source": [
        "6. Write code to slice row [50, 51, 52, 53, 54, 55, 56, 57, 58, 59] from the array above (question 5)."
      ],
      "metadata": {
        "id": "vmpJLAbWnoiQ"
      }
    },
    {
      "cell_type": "code",
      "source": [
        "row = arr3[1,0,:]\n",
        "row"
      ],
      "metadata": {
        "colab": {
          "base_uri": "https://localhost:8080/"
        },
        "id": "A03WXBl6nqaj",
        "outputId": "bdb0e8c8-8a7f-46e8-8672-1e4fe6077cc6"
      },
      "execution_count": 24,
      "outputs": [
        {
          "output_type": "execute_result",
          "data": {
            "text/plain": [
              "array([50, 51, 52, 53, 54, 55, 56, 57, 58, 59])"
            ]
          },
          "metadata": {},
          "execution_count": 24
        }
      ]
    },
    {
      "cell_type": "markdown",
      "source": [
        "7. Let’s analyze the array you created in question 1 further. How many numbers in row 1 are greater than the numbers\n",
        "in row 2?"
      ],
      "metadata": {
        "id": "pOLKIXdrmdR0"
      }
    },
    {
      "cell_type": "code",
      "source": [
        "# Return the numbers of row 1 which are greater frm the ones of row 2\n",
        "arr1[0][arr1[0]>arr1[1]]"
      ],
      "metadata": {
        "colab": {
          "base_uri": "https://localhost:8080/"
        },
        "id": "4IBb8uZkofJ-",
        "outputId": "ae0a7bef-0345-424c-e338-de8f9751e0f1"
      },
      "execution_count": 29,
      "outputs": [
        {
          "output_type": "execute_result",
          "data": {
            "text/plain": [
              "array([23])"
            ]
          },
          "metadata": {},
          "execution_count": 29
        }
      ]
    }
  ]
}