{
  "nbformat": 4,
  "nbformat_minor": 0,
  "metadata": {
    "colab": {
      "provenance": [],
      "authorship_tag": "ABX9TyMsT85GdONk5Dh4H9y/4cFd",
      "include_colab_link": true
    },
    "kernelspec": {
      "name": "python3",
      "display_name": "Python 3"
    },
    "language_info": {
      "name": "python"
    }
  },
  "cells": [
    {
      "cell_type": "markdown",
      "metadata": {
        "id": "view-in-github",
        "colab_type": "text"
      },
      "source": [
        "<a href=\"https://colab.research.google.com/github/nachodejuan/50-days-of-data-analysis/blob/main/Day_10_Data_Analytics.ipynb\" target=\"_parent\"><img src=\"https://colab.research.google.com/assets/colab-badge.svg\" alt=\"Open In Colab\"/></a>"
      ]
    },
    {
      "cell_type": "markdown",
      "source": [
        "**The arange Function and Boolean\n",
        "Indexing**"
      ],
      "metadata": {
        "id": "a5BCnudNd9I-"
      }
    },
    {
      "cell_type": "markdown",
      "source": [
        "1. Create an array from the number below using the arange() function of NumPy. Your array should start at 0 with a step of 5.\n",
        "\n",
        "          num = 50"
      ],
      "metadata": {
        "id": "8q6WINA1ePHp"
      }
    },
    {
      "cell_type": "code",
      "execution_count": 1,
      "metadata": {
        "colab": {
          "base_uri": "https://localhost:8080/"
        },
        "id": "FYTwBFTWd1It",
        "outputId": "ed82d7df-7cf7-470a-8054-688c1cd46d74"
      },
      "outputs": [
        {
          "output_type": "execute_result",
          "data": {
            "text/plain": [
              "array([ 0,  5, 10, 15, 20, 25, 30, 35, 40, 45])"
            ]
          },
          "metadata": {},
          "execution_count": 1
        }
      ],
      "source": [
        "import numpy as np\n",
        "\n",
        "num = 50\n",
        "\n",
        "arr1 = np.arange(0, num, 5)\n",
        "arr1"
      ]
    },
    {
      "cell_type": "markdown",
      "source": [
        "2. Using NumPy, write a code that returns all the numbers in the array that are greater than 25."
      ],
      "metadata": {
        "id": "ga_C4TEEe4tC"
      }
    },
    {
      "cell_type": "code",
      "source": [
        "# Boolean mask that meets the condition\n",
        "filter_array = arr1 > 25\n",
        "\n",
        "arr2 = arr1[filter_array]\n",
        "\n",
        "arr2"
      ],
      "metadata": {
        "colab": {
          "base_uri": "https://localhost:8080/"
        },
        "id": "6IspNatKe7zU",
        "outputId": "c12e47f7-d922-4f51-fd6b-0527db3f9193"
      },
      "execution_count": 2,
      "outputs": [
        {
          "output_type": "execute_result",
          "data": {
            "text/plain": [
              "array([30, 35, 40, 45])"
            ]
          },
          "metadata": {},
          "execution_count": 2
        }
      ]
    },
    {
      "cell_type": "markdown",
      "source": [
        "3. Here is some data below:\n",
        "\n",
        "          days = [\"mon\", \"tue\", \"wed\", \"thu\", \"Fri\"]\n",
        "          hours_worked = [ 8, 8, 10, 11, 7]\n",
        "\n",
        " Using Boolean indexing of NumPy arrays, return the days of the week where hours worked were 8."
      ],
      "metadata": {
        "id": "ghqB0UKefUcT"
      }
    },
    {
      "cell_type": "code",
      "source": [
        "days = [\"mon\", \"tue\", \"wed\", \"thu\", \"Fri\"]\n",
        "hours_worked = [ 8, 8, 10, 11, 7]\n",
        "\n",
        "arr_days = np.array(days)\n",
        "arr_hours_worked = np.array(hours_worked)\n",
        "\n",
        "filt_arr = arr_hours_worked == 8\n",
        "arr3 = arr_days[filt_arr]\n",
        "arr3"
      ],
      "metadata": {
        "colab": {
          "base_uri": "https://localhost:8080/"
        },
        "id": "lvGgiroqfi2O",
        "outputId": "86b1f8e2-12f0-4c5f-8a74-ed005df22a24"
      },
      "execution_count": 3,
      "outputs": [
        {
          "output_type": "execute_result",
          "data": {
            "text/plain": [
              "array(['mon', 'tue'], dtype='<U3')"
            ]
          },
          "metadata": {},
          "execution_count": 3
        }
      ]
    },
    {
      "cell_type": "markdown",
      "source": [
        "4. Write another code (using Boolean indexing) to return the day of the week with the highest number of hours worked."
      ],
      "metadata": {
        "id": "epnLkhXHgEJm"
      }
    },
    {
      "cell_type": "code",
      "source": [
        "arr4 = arr_days[np.argmax(arr_hours_worked)]\n",
        "arr4"
      ],
      "metadata": {
        "colab": {
          "base_uri": "https://localhost:8080/",
          "height": 36
        },
        "id": "18C7wcKwgJj7",
        "outputId": "7782d80e-7f6e-4bcb-b6d8-32595084546d"
      },
      "execution_count": 4,
      "outputs": [
        {
          "output_type": "execute_result",
          "data": {
            "text/plain": [
              "'thu'"
            ],
            "application/vnd.google.colaboratory.intrinsic+json": {
              "type": "string"
            }
          },
          "metadata": {},
          "execution_count": 4
        }
      ]
    },
    {
      "cell_type": "markdown",
      "source": [
        "5. Write another code to return all the days of the week where over 9 hours of work were achieved."
      ],
      "metadata": {
        "id": "zaHV8oNTgfVb"
      }
    },
    {
      "cell_type": "code",
      "source": [
        "arr5 = arr_days[arr_hours_worked > 9]\n",
        "arr5"
      ],
      "metadata": {
        "colab": {
          "base_uri": "https://localhost:8080/"
        },
        "id": "20SAuGnThiHq",
        "outputId": "8383f580-b4a0-4940-8666-00e6950260ef"
      },
      "execution_count": 5,
      "outputs": [
        {
          "output_type": "execute_result",
          "data": {
            "text/plain": [
              "array(['wed', 'thu'], dtype='<U3')"
            ]
          },
          "metadata": {},
          "execution_count": 5
        }
      ]
    }
  ]
}