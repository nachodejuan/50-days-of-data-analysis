{
  "nbformat": 4,
  "nbformat_minor": 0,
  "metadata": {
    "colab": {
      "provenance": [],
      "authorship_tag": "ABX9TyOAwcUse8GrEEhUe6xJfTsB",
      "include_colab_link": true
    },
    "kernelspec": {
      "name": "python3",
      "display_name": "Python 3"
    },
    "language_info": {
      "name": "python"
    }
  },
  "cells": [
    {
      "cell_type": "markdown",
      "metadata": {
        "id": "view-in-github",
        "colab_type": "text"
      },
      "source": [
        "<a href=\"https://colab.research.google.com/github/nachodejuan/50-days-of-data-analysis/blob/main/Day_7_Data_Analytics.ipynb\" target=\"_parent\"><img src=\"https://colab.research.google.com/assets/colab-badge.svg\" alt=\"Open In Colab\"/></a>"
      ]
    },
    {
      "cell_type": "markdown",
      "source": [
        "**Transpose and Swap Arrays**"
      ],
      "metadata": {
        "id": "DIGLcygaP7G_"
      }
    },
    {
      "cell_type": "markdown",
      "source": [
        "1. Using the **arange()** function, create an array of numbers from 0 and 10. The shape of the array must be (2, 5)."
      ],
      "metadata": {
        "id": "PpKmL4TBRZYM"
      }
    },
    {
      "cell_type": "code",
      "execution_count": 5,
      "metadata": {
        "colab": {
          "base_uri": "https://localhost:8080/"
        },
        "id": "cOnKlNCTP6Zr",
        "outputId": "250fd58b-6d76-42b6-cb7b-d5705e3b37f0"
      },
      "outputs": [
        {
          "output_type": "execute_result",
          "data": {
            "text/plain": [
              "array([[0, 1, 2, 3, 4],\n",
              "       [5, 6, 7, 8, 9]])"
            ]
          },
          "metadata": {},
          "execution_count": 5
        }
      ],
      "source": [
        "import numpy as np\n",
        "\n",
        "arr1 = np.arange(10)\n",
        "\n",
        "arr1 = arr1.reshape(2,5)\n",
        "arr1"
      ]
    },
    {
      "cell_type": "markdown",
      "source": [
        "2. Write a code to change the shape of the array (question 1) to (5, 2). Create a new variable for this array. Now, add this array to the original array in question 1. The resulting array should have shapes (2, 5). Save this as a variable."
      ],
      "metadata": {
        "id": "BgoElkLrSeqt"
      }
    },
    {
      "cell_type": "code",
      "source": [
        "# Reshape the first array\n",
        "arr2 = arr1.reshape(5,2)\n",
        "\n",
        "arr3 = np.add(arr1, arr2.transpose())\n",
        "arr3"
      ],
      "metadata": {
        "colab": {
          "base_uri": "https://localhost:8080/"
        },
        "id": "MWrDoOJAWVy6",
        "outputId": "38d66bd8-5841-46b0-e4e8-cb9ba40478b8"
      },
      "execution_count": 8,
      "outputs": [
        {
          "output_type": "execute_result",
          "data": {
            "text/plain": [
              "array([[ 0,  3,  6,  9, 12],\n",
              "       [ 6,  9, 12, 15, 18]])"
            ]
          },
          "metadata": {},
          "execution_count": 8
        }
      ]
    },
    {
      "cell_type": "markdown",
      "source": [
        "3. Swap the indexes of the array (question 2) using the **swapaxes()** method. Create a new variable for the swapped array."
      ],
      "metadata": {
        "id": "_3TheQHdXy6G"
      }
    },
    {
      "cell_type": "code",
      "source": [
        "# Swap the array\n",
        "arr4 = arr3.swapaxes(0,1)\n",
        "arr4"
      ],
      "metadata": {
        "colab": {
          "base_uri": "https://localhost:8080/"
        },
        "id": "1P1jwaKyX2fM",
        "outputId": "0e332332-5cea-4b45-86ed-124fd5254624"
      },
      "execution_count": 13,
      "outputs": [
        {
          "output_type": "execute_result",
          "data": {
            "text/plain": [
              "array([[ 0,  6],\n",
              "       [ 3,  9],\n",
              "       [ 6, 12],\n",
              "       [ 9, 15],\n",
              "       [12, 18]])"
            ]
          },
          "metadata": {},
          "execution_count": 13
        }
      ]
    },
    {
      "cell_type": "markdown",
      "source": [
        "4. Write a code to slice row 1 from the swapped array in question 3."
      ],
      "metadata": {
        "id": "ctPqNdaPZrDV"
      }
    },
    {
      "cell_type": "code",
      "source": [
        "arr4[0,:]"
      ],
      "metadata": {
        "colab": {
          "base_uri": "https://localhost:8080/"
        },
        "id": "YZwR1YA9aB6J",
        "outputId": "ffd4b351-2d5f-4ea6-cc49-b4e98b75368f"
      },
      "execution_count": 15,
      "outputs": [
        {
          "output_type": "execute_result",
          "data": {
            "text/plain": [
              "array([0, 6])"
            ]
          },
          "metadata": {},
          "execution_count": 15
        }
      ]
    },
    {
      "cell_type": "markdown",
      "source": [
        "5. Given the following data:\n",
        "\n",
        "        players = [\"Robin\", \"Leo\", \"Pogba\", \"Diego\", \"Ronaldo\"]\n",
        "        teams = [\"Man UTD\", \"Barca\", \"Juve\", \"Napo\", \"RMadrid\"]\n",
        "\n",
        "        goals = [[12, 15, 16, 15, 13],\n",
        "                 [26, 30, 31, 25, 24],\n",
        "                 [10, 12, 8, 6, 13],\n",
        "                 [18, 19, 17, 20, 21],\n",
        "                 [21, 32, 25, 21, 22]\n",
        "                ]\n",
        "  \n",
        "Each row in the \"goals\" list represents the goals scored by each player in the last 5 seasons. For example, Robin’s goals are [12, 15, 16, 15, 13] and he plays for \"Man UTD,\" and Leo's are [26, 30, 31, 25, 24] and he plays for \"Barca.\"\n",
        "Using NumPy, Seaborn, and Matplotlib, create a heatmap\n",
        "of the goals and calculate the gradient of the data.\n",
        "Annotate your heat map. The x-ticks will be the names of the players, and the y-ticks will be the teams of the players."
      ],
      "metadata": {
        "id": "_ZDcs13jaMXt"
      }
    },
    {
      "cell_type": "code",
      "source": [
        "import matplotlib.pyplot as plt\n",
        "import seaborn as sns\n",
        "\n",
        "# Define the lists\n",
        "players = [\"Robin\", \"Leo\", \"Pogba\", \"Diego\", \"Ronaldo\"]\n",
        "teams = [\"Man UTD\", \"Barca\", \"Juve\", \"Napo\", \"RMadrid\"]\n",
        "\n",
        "goals = [[12, 15, 16, 15, 13],\n",
        "         [26, 30, 31, 25, 24],\n",
        "         [10, 12, 8, 6, 13],\n",
        "         [18, 19, 17, 20, 21],\n",
        "         [21, 32, 25, 21, 22]\n",
        "         ]\n",
        "\n",
        "arr1 = np.array(goals)\n",
        "\n",
        "fig, ax = plt.subplots(figsize=(12,8))\n",
        "sns.heatmap(arr1, annot=True)\n",
        "ax.set_xticks(np.arange(len(players)), labels=players)\n",
        "ax.set_yticks(np.arange(len(teams)), labels=teams)\n",
        "\n",
        "plt.title(\"Player Analytics Heatmap\", fontsize=20)\n",
        "plt.show()"
      ],
      "metadata": {
        "colab": {
          "base_uri": "https://localhost:8080/",
          "height": 708
        },
        "id": "ji5A30Lhb0nE",
        "outputId": "e12229bc-fc7d-4217-ac29-1d5d25a49f21"
      },
      "execution_count": 22,
      "outputs": [
        {
          "output_type": "display_data",
          "data": {
            "text/plain": [
              "<Figure size 1200x800 with 2 Axes>"
            ],
            "image/png": "[encoded data removed]"
          },
          "metadata": {}
        }
      ]
    },
    {
      "cell_type": "code",
      "source": [
        "# Calculate the gradient of the data\n",
        "\n",
        "np.gradient(arr1)"
      ],
      "metadata": {
        "colab": {
          "base_uri": "https://localhost:8080/"
        },
        "id": "O5nhJciSe8zU",
        "outputId": "d80074b5-5c51-4fec-88fb-58dd63936712"
      },
      "execution_count": 23,
      "outputs": [
        {
          "output_type": "execute_result",
          "data": {
            "text/plain": [
              "[array([[14. , 15. , 15. , 10. , 11. ],\n",
              "        [-1. , -1.5, -4. , -4.5,  0. ],\n",
              "        [-4. , -5.5, -7. , -2.5, -1.5],\n",
              "        [ 5.5, 10. ,  8.5,  7.5,  4.5],\n",
              "        [ 3. , 13. ,  8. ,  1. ,  1. ]]),\n",
              " array([[ 3. ,  2. ,  0. , -1.5, -2. ],\n",
              "        [ 4. ,  2.5, -2.5, -3.5, -1. ],\n",
              "        [ 2. , -1. , -3. ,  2.5,  7. ],\n",
              "        [ 1. , -0.5,  0.5,  2. ,  1. ],\n",
              "        [11. ,  2. , -5.5, -1.5,  1. ]])]"
            ]
          },
          "metadata": {},
          "execution_count": 23
        }
      ]
    },
    {
      "cell_type": "markdown",
      "source": [
        "I don't think it makes any sense."
      ],
      "metadata": {
        "id": "yJQyIrxked9E"
      }
    }
  ]
}